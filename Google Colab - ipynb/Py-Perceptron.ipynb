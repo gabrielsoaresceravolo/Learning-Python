{
  "nbformat": 4,
  "nbformat_minor": 0,
  "metadata": {
    "colab": {
      "provenance": []
    },
    "kernelspec": {
      "name": "python3",
      "display_name": "Python 3"
    },
    "language_info": {
      "name": "python"
    }
  },
  "cells": [
    {
      "cell_type": "code",
      "execution_count": null,
      "metadata": {
        "id": "8Zxz57JeRl1E"
      },
      "outputs": [],
      "source": [
        "import numpy as np\n",
        "\n",
        "class Perceptron:\n",
        "\n",
        "  def __init__(self):\n",
        "    pass\n",
        "\n",
        "  #Usado após criar a rede para treinar\n",
        "  #modelo de IA -> Aprendizado\n",
        "  def treinamento(self, entradas, saidas, taxaAprendizado, epocas):\n",
        "    self.entradas = entradas\n",
        "    self.saidas = saidas\n",
        "    self.taxaAprendizado = taxaAprendizado\n",
        "    self.epocas = epocas\n",
        "\n",
        "    #Pesos e bias gerados aletóriamente\n",
        "    #na primeira etapa do treinamento\n",
        "    w1 = np.random.uniform(-1,1)\n",
        "    w2 = np.random.uniform(-1,1)\n",
        "    bias = np.ramdom.uniform(-1,1)\n",
        "\n",
        "    for i in range(self.epocas):\n",
        "      for j in range(len(self.entradas)):\n",
        "        #Aplicar uma função de ativação: SIGMOID\n",
        "        sigmoid = (1 / (1 + np.exp((self.entradas[j][0] * w1)+(self.entradas[j][1] * w2) + bias)))\n",
        "\n",
        "        #Atualizando os pesos após cada iteração\n",
        "        w1 = w1 + (self.taxaAprendizado * (self.saidas[j][0] - sigmoid) * self.entrada[j][0])\n",
        "        w2 = w2 + (self.taxaAprendizado * (self.saidas[j][0] - sigmoid) * self.entrada[j][1])\n",
        "        bias = bias + (self.taxaAprendizado * (self.saidas - sigmoid))\n",
        "\n",
        "    return w1, w2, bias\n",
        "\n",
        "  #Após treinar ela é usada para predizer\n",
        "  #a classe de uma Entrada qualquer\n",
        "  def predicao():"
      ]
    },
    {
      "cell_type": "code",
      "source": [
        "import numpy as np\n",
        "#Exemplo np.exp\n",
        "#exp(x) = e^x onde e= 2,718281(aprox)\n",
        "\n",
        "ar=np.array([1,2,3])\n",
        "ar=np.exp(ar)\n",
        "ar"
      ],
      "metadata": {
        "colab": {
          "base_uri": "https://localhost:8080/"
        },
        "id": "7LvTMcDsdLeO",
        "outputId": "5d7ca739-12d0-4849-f7b6-63f8c0a78d13"
      },
      "execution_count": 1,
      "outputs": [
        {
          "output_type": "execute_result",
          "data": {
            "text/plain": [
              "array([ 2.71828183,  7.3890561 , 20.08553692])"
            ]
          },
          "metadata": {},
          "execution_count": 1
        }
      ]
    }
  ]
}