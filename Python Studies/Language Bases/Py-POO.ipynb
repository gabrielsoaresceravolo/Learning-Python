{
  "nbformat": 4,
  "nbformat_minor": 0,
  "metadata": {
    "colab": {
      "provenance": []
    },
    "kernelspec": {
      "name": "python3",
      "display_name": "Python 3"
    },
    "language_info": {
      "name": "python"
    }
  },
  "cells": [
    {
      "cell_type": "markdown",
      "source": [
        "# **Python - Orientação à Objetos**"
      ],
      "metadata": {
        "id": "we-pMoa0VMps"
      }
    },
    {
      "cell_type": "markdown",
      "source": [
        "**Definição de Classes: Atributos e Construtor**"
      ],
      "metadata": {
        "id": "qAqe_EbiVT6t"
      }
    },
    {
      "cell_type": "code",
      "execution_count": null,
      "metadata": {
        "id": "sc7oi-a_VHfC"
      },
      "outputs": [],
      "source": [
        "class Carro:\n",
        "\n",
        "  #Construtor e atributos\n",
        "  def __init__(self, modelo, cor, placa, numeroPortas):\n",
        "    self.modelo = modelo\n",
        "    self.cor = cor\n",
        "    self.placa = placa\n",
        "    self.numeroPortas = numeroPortas\n",
        "\n"
      ]
    },
    {
      "cell_type": "markdown",
      "source": [
        "**Definição de Classes: Métodos**"
      ],
      "metadata": {
        "id": "xODEO71IW1cs"
      }
    },
    {
      "cell_type": "code",
      "source": [
        "class Carro:\n",
        "\n",
        "  #Construtor e atributos\n",
        "  def __init__(self, modelo, cor, placa, numeroPortas):\n",
        "    self.modelo = modelo\n",
        "    self.cor = cor\n",
        "    self.placa = placa\n",
        "    self.numeroPortas = numeroPortas\n",
        "\n",
        "  #Métodos\n",
        "  def ligar(self):\n",
        "    print(\"O carro \" + self.modelo + \" ligado!\")\n",
        "\n",
        "  def acelerar(self):\n",
        "    print(\"O carro \" + self.modelo + \" está acelerando!\")\n",
        "\n",
        "  def frear(self):\n",
        "    print(\"O carro \" + self.modelo + \" está freando...\")\n",
        "\n",
        "  def acionarSeta(self, orientacao):\n",
        "    if(orientacao == \"esquerda\"):\n",
        "      print(self.modelo + \", seta para esquerda acionada...\")\n",
        "    elif(orientacao == \"direita\"):\n",
        "      print(self.modelo + \", seta para direita acionada...\")\n",
        "    else:\n",
        "      print(\"Prudentino...\")\n"
      ],
      "metadata": {
        "id": "yu_P3UDKW9TU"
      },
      "execution_count": 9,
      "outputs": []
    },
    {
      "cell_type": "markdown",
      "source": [
        "**Instânciando Objetos**"
      ],
      "metadata": {
        "id": "nCZwZfbdX7ub"
      }
    },
    {
      "cell_type": "code",
      "source": [
        "#No exemplo abaixo dois carros foram instânciados\n",
        "carro1 = Carro(\"Classic\", \"Cinza\", \"CPF-7521\", 4)\n",
        "carro2 = Carro(\"Civic\", \"Grafite\", \"FDS_1212\", 4)\n",
        "\n",
        "#Utilizando os objetos\n",
        "carro1.ligar()\n",
        "carro1.acelerar()\n",
        "carro1.frear()\n",
        "carro1.acionarSeta(\"esquerda\")"
      ],
      "metadata": {
        "colab": {
          "base_uri": "https://localhost:8080/"
        },
        "id": "6-XO2aY2ZcEA",
        "outputId": "7298cd26-4164-4d22-eec8-690e907c5e40"
      },
      "execution_count": 10,
      "outputs": [
        {
          "output_type": "stream",
          "name": "stdout",
          "text": [
            "O carro Classic ligado!\n",
            "O carro Classic está acelerando!\n",
            "O carro Classic está freando...\n",
            "Classic, seta para esquerda acionada...\n"
          ]
        }
      ]
    },
    {
      "cell_type": "markdown",
      "source": [
        "**Encapsulamento e Modificadores de Acesso**\n",
        "\n",
        "Python permite encapsulamento e possui modificadores de acesso: publico, privado, protected. Entretanto nenhum atributo é realmente privado em Python. Neste caso, é comum utilizar protected indicado por _ *underscore*."
      ],
      "metadata": {
        "id": "BzHbfSq6bGx_"
      }
    },
    {
      "cell_type": "code",
      "source": [
        "class Carro:\n",
        "\n",
        "  #Construtor e atributos\n",
        "  def __init__(self, modelo, cor, placa, numeroPortas):\n",
        "    #Atributos marcados com _ indica protected...\n",
        "    self._modelo = modelo\n",
        "    self._cor = cor\n",
        "    self._placa = placa\n",
        "    self._numeroPortas = numeroPortas\n",
        "\n",
        "  #Getters e Setters\n",
        "  def get_modelo(self):\n",
        "    return self._modelo\n",
        "\n",
        "  def set_modelo(self, modelo):\n",
        "    self._modelo = modelo\n",
        "\n",
        "  def get_cor(self):\n",
        "    return self._cor\n",
        "\n",
        "  def set_cor(self, cor):\n",
        "    self._cor = cor\n",
        "\n",
        "  def get_placa(self):\n",
        "    return self._placa\n",
        "\n",
        "  def set_placa(self, placa):\n",
        "    self._placa = placa\n",
        "\n",
        "  def get_numeroPortas(self):\n",
        "    return self._numeroPortas\n",
        "\n",
        "  def set_numeroPortas(self, numeroPortas):\n",
        "    self._numeroPortas = numeroPortas\n",
        "\n",
        "  #Métodos\n",
        "  def ligar(self):\n",
        "    print(\"O carro \" + self._modelo + \" ligado!\")\n",
        "\n",
        "  def acelerar(self):\n",
        "    print(\"O carro \" + self._modelo + \" está acelerando!\")\n",
        "\n",
        "  def frear(self):\n",
        "    print(\"O carro \" + self._modelo + \" está freando...\")\n",
        "\n",
        "  def acionarSeta(self, orientacao):\n",
        "    if(orientacao == \"esquerda\"):\n",
        "      print(self._modelo + \", seta para esquerda acionada...\")\n",
        "    elif(orientacao == \"direita\"):\n",
        "      print(self._modelo + \", seta para direita acionada...\")\n",
        "    else:\n",
        "      print(\"Prudentino...\")\n",
        "\n",
        "#No exemplo abaixo dois carros foram instânciados\n",
        "carro1 = Carro(\"Classic\", \"Cinza\", \"CPF-7521\", 4)\n",
        "carro2 = Carro(\"Civic\", \"Grafite\", \"FDS_1212\", 4)\n",
        "\n",
        "#Utilizando os objetos\n",
        "carro1.ligar()\n",
        "carro1.acelerar()\n",
        "carro1.frear()\n",
        "carro1.acionarSeta(\"esquerda\")\n",
        "\n",
        "#settando de forma incorreta\n",
        "#carro1.cor = \"Amerelo\"\n",
        "\n",
        "#Settando valores e obtendo valores\n",
        "carro1.set_cor(\"Amarelo\")\n",
        "print(\"Nova cor: \" + carro1.get_cor())"
      ],
      "metadata": {
        "colab": {
          "base_uri": "https://localhost:8080/"
        },
        "id": "5cioxUSScBG2",
        "outputId": "307351f7-0d05-4e86-bf39-85bd114e9066"
      },
      "execution_count": 18,
      "outputs": [
        {
          "output_type": "stream",
          "name": "stdout",
          "text": [
            "O carro Classic ligado!\n",
            "O carro Classic está acelerando!\n",
            "O carro Classic está freando...\n",
            "Classic, seta para esquerda acionada...\n",
            "Nova cor: Amarelo\n"
          ]
        }
      ]
    },
    {
      "cell_type": "markdown",
      "source": [
        "**Herança e Polimorfismo**\n"
      ],
      "metadata": {
        "id": "HEKYOX-wfvCy"
      }
    },
    {
      "cell_type": "code",
      "source": [
        "#Classe Mãe - SuperClasse\n",
        "class Pessoa:\n",
        "\n",
        "  #Construtor\n",
        "  def __init__(self, nome, endereco):\n",
        "    self._nome = nome\n",
        "    self._endereco = endereco\n",
        "\n",
        "  #Getters e Setters\n",
        "  def get_nome(self):\n",
        "    return self._nome\n",
        "\n",
        "  def set_nome(self, nome):\n",
        "    self._nome = nome\n",
        "\n",
        "  def get_endereco(self):\n",
        "    return self._endereco\n",
        "\n",
        "  def set_endereco(self, endereco):\n",
        "    self._endereco = endereco\n",
        "\n",
        "  #Métodos\n",
        "  def imprimir(self):\n",
        "    return(\"Nome: \" + self._nome + \" Endereço: \" + self._endereco)\n",
        "\n",
        "#Classe Filha - SubClasse\n",
        "class PessoaFisica(Pessoa):\n",
        "\n",
        "  #Construtor\n",
        "  def __init__(self, nome, endereco, cpf):\n",
        "    #Polimorfismo para acessar por meio do super o construtor da classe mãe (superclasse)\n",
        "    super().__init__(nome, endereco)\n",
        "    self._cpf\n",
        "\n",
        "  #Getters e Setters\n",
        "  def get_cpf(self):\n",
        "    return self._cpf\n",
        "\n",
        "  def set_cpf(self, cpf):\n",
        "    self._cpf = cpf\n",
        "\n",
        "  #Métodos\n",
        "  def imprimir(self):\n",
        "    return(super().imprimir() + \" CPF: \" + self._cpf)\n",
        "\n",
        "#Classe Filha - SubClasse\n",
        "class PessoaJuridica(Pessoa):\n",
        "\n",
        "  #Construtor\n",
        "  def __init__(self, nome, endereco, cnpj):\n",
        "    #Polimorfismo para acessar por meio do super o construtor da classe mãe (superclasse)\n",
        "    super().__init__(nome, endereco)\n",
        "    self._cnpj\n",
        "\n",
        "  #Getters e Setters\n",
        "  def get_cpf(self):\n",
        "    return self._cnpj\n",
        "\n",
        "  def set_cpf(self, cnpj):\n",
        "    self._cnpj = cnpj\n",
        "\n",
        "  #Métodos\n",
        "  def imprimir(self):\n",
        "    return(super().imprimir() + \" CNPJ: \" + self._cnpj)\n",
        ""
      ],
      "metadata": {
        "id": "64TcDbUHfxKF"
      },
      "execution_count": 12,
      "outputs": []
    }
  ]
}