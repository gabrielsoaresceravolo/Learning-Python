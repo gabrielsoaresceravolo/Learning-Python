{
  "nbformat": 4,
  "nbformat_minor": 0,
  "metadata": {
    "colab": {
      "provenance": []
    },
    "kernelspec": {
      "name": "python3",
      "display_name": "Python 3"
    },
    "language_info": {
      "name": "python"
    }
  },
  "cells": [
    {
      "cell_type": "markdown",
      "source": [
        "# **Introdução à Linguagem Python - Básico**"
      ],
      "metadata": {
        "id": "epDUpY7w7tHk"
      }
    },
    {
      "cell_type": "markdown",
      "source": [
        "**Comando de Escrita - print()**\n",
        "\n"
      ],
      "metadata": {
        "id": "wdfqkeSB7-eR"
      }
    },
    {
      "cell_type": "code",
      "execution_count": null,
      "metadata": {
        "colab": {
          "base_uri": "https://localhost:8080/"
        },
        "id": "qqbJ_2RN7ZRv",
        "outputId": "cec16e0a-0726-46ca-d004-343eddc88f83"
      },
      "outputs": [
        {
          "output_type": "stream",
          "name": "stdout",
          "text": [
            "Texto exibido na tela para o usuário BRUNO\n",
            "Análise de Algoritmos é a melhor disciplina\n",
            "O palmeiras não têm mundial!\n",
            "Digite um número inteiro positivo: \n"
          ]
        }
      ],
      "source": [
        "variavel = \"BRUNO\"\n",
        "print(\"Texto exibido na tela para o usuário \" + variavel)\n",
        "print(\"Análise de Algoritmos é a melhor disciplina\")\n",
        "print(\"O palmeiras não têm mundial!\")\n",
        "print(\"Digite um número inteiro positivo: \")"
      ]
    },
    {
      "cell_type": "markdown",
      "source": [
        "**Exemplo de váriaveis**"
      ],
      "metadata": {
        "id": "hU_5uoWJ9Bha"
      }
    },
    {
      "cell_type": "code",
      "source": [
        "variavel = 12\n",
        "variavel = 5.19\n",
        "variavel = \"Bruno\"\n",
        "variavel = [\"Maça\", \"Uva\", \"Morango\"]\n",
        "variavel = True\n",
        "\n",
        "#Exibindo o valor da variavel\n",
        "print(variavel)"
      ],
      "metadata": {
        "colab": {
          "base_uri": "https://localhost:8080/"
        },
        "id": "IaR7kNum9E2y",
        "outputId": "15449472-34c4-4c0e-a7e0-a08877fe495e"
      },
      "execution_count": null,
      "outputs": [
        {
          "output_type": "stream",
          "name": "stdout",
          "text": [
            "True\n"
          ]
        }
      ]
    },
    {
      "cell_type": "markdown",
      "source": [
        "**Exemplo tipos de dados - Conversão**"
      ],
      "metadata": {
        "id": "qTeTFQPv-SlJ"
      }
    },
    {
      "cell_type": "code",
      "source": [
        "#Especificar tipo da variável\n",
        "variavel = int(12)\n",
        "variavel = float(5.19)\n",
        "variavel = str(\"Bruno\")\n",
        "variavel = list([\"Maça\", \"Uva\", \"Morango\"])\n",
        "variavel = bool(True)\n",
        "\n",
        "#Exibindo o valor da variavel\n",
        "print(variavel)"
      ],
      "metadata": {
        "id": "WgkKFNZe-Vgk"
      },
      "execution_count": null,
      "outputs": []
    },
    {
      "cell_type": "markdown",
      "source": [
        "**Comando de Leitura - input**"
      ],
      "metadata": {
        "id": "tfo_33q--c2g"
      }
    },
    {
      "cell_type": "code",
      "source": [
        "#Realizando a entrada de dado por parte do usuário\n",
        "nome = input(\"Digite seu nome: \")\n",
        "\n",
        "#Exibindo o dado inserido pelo usuário\n",
        "print(\"Olá, seu nome é \" + nome)"
      ],
      "metadata": {
        "colab": {
          "base_uri": "https://localhost:8080/"
        },
        "id": "aeBSTP4r-hBJ",
        "outputId": "cd1736ab-283c-443f-bbbe-5f9ba8d3602d"
      },
      "execution_count": null,
      "outputs": [
        {
          "output_type": "stream",
          "name": "stdout",
          "text": [
            "Digite seu nome: Bruno\n",
            "Olá, seu nome é Bruno\n"
          ]
        }
      ]
    },
    {
      "cell_type": "code",
      "source": [
        "nome = input(\"Digite seu nome: \")\n",
        "idade = input(\"Digite sua idade: \")\n",
        "altura = float(input(\"Digite sua altura: \"))\n",
        "print(\"Olá, seu nome é \" + nome + \", possui \" + idade + \" anos e sua altura é \" + str(altura))\n",
        "novaIdade = int(idade) + 1\n",
        "print(novaIdade)"
      ],
      "metadata": {
        "colab": {
          "base_uri": "https://localhost:8080/"
        },
        "id": "oDvbKk6t-x7A",
        "outputId": "21bee4b7-fab1-464e-a956-ed05da1a3e87"
      },
      "execution_count": null,
      "outputs": [
        {
          "output_type": "stream",
          "name": "stdout",
          "text": [
            "Digite seu nome: Bruno\n",
            "Digite sua idade: 28\n",
            "Digite sua altura: 1.76\n",
            "Olá, seu nome é Bruno, possui 28 anos e sua altura é 1.76\n",
            "29\n"
          ]
        }
      ]
    },
    {
      "cell_type": "markdown",
      "source": [
        "**Comandos de Atribuição**"
      ],
      "metadata": {
        "id": "3hGfh6bgAW3K"
      }
    },
    {
      "cell_type": "code",
      "source": [
        "soma = 10\n",
        "soma = soma + 22\n",
        "soma = soma + 177\n",
        "soma = soma + 53\n",
        "soma = soma - 2\n",
        "soma = soma * 2\n",
        "soma = soma + 10\n",
        "\n",
        "print(\"SOMA = \" + str(soma))"
      ],
      "metadata": {
        "colab": {
          "base_uri": "https://localhost:8080/"
        },
        "id": "pCz-QjPYAY-J",
        "outputId": "91940435-26bd-4753-d0f5-69fee2fbb7f9"
      },
      "execution_count": null,
      "outputs": [
        {
          "output_type": "stream",
          "name": "stdout",
          "text": [
            "SOMA = 530\n"
          ]
        }
      ]
    },
    {
      "cell_type": "markdown",
      "source": [
        "**Exemplo Operadores Aritmeticos**"
      ],
      "metadata": {
        "id": "jjyETtYfBnrh"
      }
    },
    {
      "cell_type": "code",
      "source": [
        "a = int(input(\"Digite um número a: \"))\n",
        "b = int(input(\"Digite um número b: \"))\n",
        "\n",
        "resultado = a * b\n",
        "print(str(a) + \" * \" + str(b) + \" = \" + str(resultado))\n",
        "resultado = a / b\n",
        "print(str(a) + \" / \" + str(b) + \" = \" + str(resultado))\n",
        "resultado = a % b\n",
        "print(\"Resto da divisão de \" + str(a) + \" por \" + str(b) + \" = \" + str(resultado))\n",
        "resultado = a ** b\n",
        "print(str(a) + \" elevado a \" + str(b) + \" = \" + str(resultado))\n"
      ],
      "metadata": {
        "colab": {
          "base_uri": "https://localhost:8080/"
        },
        "id": "dPaIEcBUBqnl",
        "outputId": "2f0532cf-2906-4114-9b35-2312c1aed6f0"
      },
      "execution_count": null,
      "outputs": [
        {
          "output_type": "stream",
          "name": "stdout",
          "text": [
            "Digite um número a: 12\n",
            "Digite um número b: 7\n",
            "12 * 7 = 84\n",
            "12 / 7 = 1.7142857142857142\n",
            "Resto da divisão de 12 por 7 = 5\n",
            "12 elevado a 7 = 35831808\n"
          ]
        }
      ]
    },
    {
      "cell_type": "markdown",
      "source": [
        "**EXEMPLO 1:** Construa um programa em Python, que dado uma temperatura em graus Fahrenheit, converta essa temperatura para graus Celsius, sabendo que: C=(𝐹 −32)∗5/9"
      ],
      "metadata": {
        "id": "6z1-qKlbD0XR"
      }
    },
    {
      "cell_type": "code",
      "source": [
        "fah = float(input(\"Digite uma temperatura em Fahrenheit: \"))\n",
        "\n",
        "#cel = (fah - 32.0) * (5.0 / 9.0)\n",
        "print(\"A temperatura em graus celsius = \" + str((fah - 32.0) * (5.0 / 9.0)))\n"
      ],
      "metadata": {
        "colab": {
          "base_uri": "https://localhost:8080/"
        },
        "id": "l5zYA80AD7Hw",
        "outputId": "9ea7ac33-656c-4181-9c5a-620db6015207"
      },
      "execution_count": null,
      "outputs": [
        {
          "output_type": "stream",
          "name": "stdout",
          "text": [
            "Digite uma temperatura em Fahrenheit: -33\n",
            "A temperatura em graus celsius = -36.111111111111114\n"
          ]
        }
      ]
    },
    {
      "cell_type": "markdown",
      "source": [
        "**Comandos de Seleção**"
      ],
      "metadata": {
        "id": "HWDXnBRtFums"
      }
    },
    {
      "cell_type": "markdown",
      "source": [
        "**Exemplo 2:** Dado um número inteiro positivo x, verifique se esse número é PAR ou ÍMPAR.\n"
      ],
      "metadata": {
        "id": "Zy4dyR2oFzqu"
      }
    },
    {
      "cell_type": "code",
      "source": [
        "x = int(input(\"Digite um número inteiro: \"))\n",
        "\n",
        "if x % 2 == 0 :\n",
        "    print(\"O número é PAR!\")\n",
        "    print(\"PARRRRR\")\n",
        "else :\n",
        "    print(\"O número é ÍMPAR!\")"
      ],
      "metadata": {
        "colab": {
          "base_uri": "https://localhost:8080/"
        },
        "id": "tXBcQQcVF2c1",
        "outputId": "019067ee-9b78-40bd-da91-691d38cd1345"
      },
      "execution_count": null,
      "outputs": [
        {
          "output_type": "stream",
          "name": "stdout",
          "text": [
            "Digite um número inteiro: 2\n",
            "O número é PAR!\n",
            "PARRRRR\n"
          ]
        }
      ]
    },
    {
      "cell_type": "markdown",
      "source": [
        "**Exemplo 3:** Dado um número inteiros positivo (x), indique se ele pertence ao intervalo [0, 100]."
      ],
      "metadata": {
        "id": "cMgfQVBE4sMG"
      }
    },
    {
      "cell_type": "code",
      "source": [
        "x = int(input(\"Digite um número inteiro positivo: \"))\n",
        "\n",
        "if x >= 0 and x <= 100:\n",
        "    print(str(x) + \" pertence ao intevalo!\")\n",
        "else:\n",
        "    print(str(x) + \" não pertence ao intevalo!\")\n"
      ],
      "metadata": {
        "colab": {
          "base_uri": "https://localhost:8080/"
        },
        "id": "-TsXWLLu43ri",
        "outputId": "702dbe8d-1e42-4be3-f1c4-0d91d55feaa1"
      },
      "execution_count": 3,
      "outputs": [
        {
          "output_type": "stream",
          "name": "stdout",
          "text": [
            "Digite um número inteiro positivo: 100\n",
            "100 pertence ao intevalo!\n"
          ]
        }
      ]
    },
    {
      "cell_type": "markdown",
      "source": [
        "**Exemplo 4:** Faça um código em Python que, dado a nota da prova 1 (NP1) e a nota da prova 2 (NP2), calcule a média final (MF) de um aluno e indique se ele foi APROVADO ou REPROVADO, sabendo que:\n",
        "* M𝐹=(𝑁𝑃1+𝑁𝑃2)/2\n",
        "* Se MF >= 5,0 APROVADO,\n",
        "* Se MF >= 3,0 E MF < 5,0 EXAME\n",
        "* Senão REPROVADO"
      ],
      "metadata": {
        "id": "eCTAGFXx8AKR"
      }
    },
    {
      "cell_type": "code",
      "source": [
        "NP1 = float(input(\"Digite a nota da prova 1: \"))\n",
        "NP2 = float(input(\"Digite a nota da prova 2: \"))\n",
        "\n",
        "MF = (NP1 + NP2) / 2.0\n",
        "if MF >= 5.0:\n",
        "    print(\"APROVADO!\")\n",
        "elif MF >= 3.0 and MF < 5.0:\n",
        "    print(\"EXAME!\")\n",
        "else:\n",
        "    print(\"REPROVADO!\")"
      ],
      "metadata": {
        "colab": {
          "base_uri": "https://localhost:8080/"
        },
        "id": "R1AajqOj8JY_",
        "outputId": "84d881f7-ccb8-40ce-def8-b1d0591273c2"
      },
      "execution_count": 5,
      "outputs": [
        {
          "output_type": "stream",
          "name": "stdout",
          "text": [
            "Digite a nota da prova 1: 7.5\n",
            "Digite a nota da prova 2: 8.5\n",
            "APROVADO!\n"
          ]
        }
      ]
    },
    {
      "cell_type": "markdown",
      "source": [
        "**Comados de Repetição**"
      ],
      "metadata": {
        "id": "w9cb3OOq9Waz"
      }
    },
    {
      "cell_type": "markdown",
      "source": [
        "**Exemplo 5:** Dado um número inteiro positivo n, imprimir os n primeiros números inteiros positivos.\n"
      ],
      "metadata": {
        "id": "INNbmjtE9f3q"
      }
    },
    {
      "cell_type": "code",
      "source": [
        "n = int(input(\"Digite um número inteiro: \"))\n",
        "\n",
        "numAtual = 1\n",
        "while numAtual <= n:\n",
        "    print(str(numAtual) + \", \")\n",
        "    numAtual += 1"
      ],
      "metadata": {
        "colab": {
          "base_uri": "https://localhost:8080/"
        },
        "id": "CesUMMLM9xGr",
        "outputId": "ccd852da-6de2-471b-9d5e-d1653d2373d5"
      },
      "execution_count": 7,
      "outputs": [
        {
          "output_type": "stream",
          "name": "stdout",
          "text": [
            "Digite um número inteiro: 200\n",
            "1, \n",
            "2, \n",
            "3, \n",
            "4, \n",
            "5, \n",
            "6, \n",
            "7, \n",
            "8, \n",
            "9, \n",
            "10, \n",
            "11, \n",
            "12, \n",
            "13, \n",
            "14, \n",
            "15, \n",
            "16, \n",
            "17, \n",
            "18, \n",
            "19, \n",
            "20, \n",
            "21, \n",
            "22, \n",
            "23, \n",
            "24, \n",
            "25, \n",
            "26, \n",
            "27, \n",
            "28, \n",
            "29, \n",
            "30, \n",
            "31, \n",
            "32, \n",
            "33, \n",
            "34, \n",
            "35, \n",
            "36, \n",
            "37, \n",
            "38, \n",
            "39, \n",
            "40, \n",
            "41, \n",
            "42, \n",
            "43, \n",
            "44, \n",
            "45, \n",
            "46, \n",
            "47, \n",
            "48, \n",
            "49, \n",
            "50, \n",
            "51, \n",
            "52, \n",
            "53, \n",
            "54, \n",
            "55, \n",
            "56, \n",
            "57, \n",
            "58, \n",
            "59, \n",
            "60, \n",
            "61, \n",
            "62, \n",
            "63, \n",
            "64, \n",
            "65, \n",
            "66, \n",
            "67, \n",
            "68, \n",
            "69, \n",
            "70, \n",
            "71, \n",
            "72, \n",
            "73, \n",
            "74, \n",
            "75, \n",
            "76, \n",
            "77, \n",
            "78, \n",
            "79, \n",
            "80, \n",
            "81, \n",
            "82, \n",
            "83, \n",
            "84, \n",
            "85, \n",
            "86, \n",
            "87, \n",
            "88, \n",
            "89, \n",
            "90, \n",
            "91, \n",
            "92, \n",
            "93, \n",
            "94, \n",
            "95, \n",
            "96, \n",
            "97, \n",
            "98, \n",
            "99, \n",
            "100, \n",
            "101, \n",
            "102, \n",
            "103, \n",
            "104, \n",
            "105, \n",
            "106, \n",
            "107, \n",
            "108, \n",
            "109, \n",
            "110, \n",
            "111, \n",
            "112, \n",
            "113, \n",
            "114, \n",
            "115, \n",
            "116, \n",
            "117, \n",
            "118, \n",
            "119, \n",
            "120, \n",
            "121, \n",
            "122, \n",
            "123, \n",
            "124, \n",
            "125, \n",
            "126, \n",
            "127, \n",
            "128, \n",
            "129, \n",
            "130, \n",
            "131, \n",
            "132, \n",
            "133, \n",
            "134, \n",
            "135, \n",
            "136, \n",
            "137, \n",
            "138, \n",
            "139, \n",
            "140, \n",
            "141, \n",
            "142, \n",
            "143, \n",
            "144, \n",
            "145, \n",
            "146, \n",
            "147, \n",
            "148, \n",
            "149, \n",
            "150, \n",
            "151, \n",
            "152, \n",
            "153, \n",
            "154, \n",
            "155, \n",
            "156, \n",
            "157, \n",
            "158, \n",
            "159, \n",
            "160, \n",
            "161, \n",
            "162, \n",
            "163, \n",
            "164, \n",
            "165, \n",
            "166, \n",
            "167, \n",
            "168, \n",
            "169, \n",
            "170, \n",
            "171, \n",
            "172, \n",
            "173, \n",
            "174, \n",
            "175, \n",
            "176, \n",
            "177, \n",
            "178, \n",
            "179, \n",
            "180, \n",
            "181, \n",
            "182, \n",
            "183, \n",
            "184, \n",
            "185, \n",
            "186, \n",
            "187, \n",
            "188, \n",
            "189, \n",
            "190, \n",
            "191, \n",
            "192, \n",
            "193, \n",
            "194, \n",
            "195, \n",
            "196, \n",
            "197, \n",
            "198, \n",
            "199, \n",
            "200, \n"
          ]
        }
      ]
    },
    {
      "cell_type": "markdown",
      "source": [
        "**Exemplo 7:** Dado um número inteiro positivo n, imprimir todos os números pares entre 0 e n. Imprima também a quantidade de números pares identificados."
      ],
      "metadata": {
        "id": "rSdTpJ7jBSov"
      }
    },
    {
      "cell_type": "code",
      "source": [
        "n = int(input(\"Digite o valor de n: \"))\n",
        "\n",
        "qtdPar = 0\n",
        "numAtual = 0\n",
        "while numAtual <= n:\n",
        "    if numAtual % 2 == 0:\n",
        "        print(\"Número par: \" + str(numAtual))\n",
        "        qtdPar += 1\n",
        "    numAtual += 1\n",
        "\n",
        "print(\"Quantidade de n° pares: \" + str(qtdPar))"
      ],
      "metadata": {
        "colab": {
          "base_uri": "https://localhost:8080/"
        },
        "id": "sY34QLUSBism",
        "outputId": "2743b4eb-0b48-47ac-8917-9508d79d015d"
      },
      "execution_count": 8,
      "outputs": [
        {
          "output_type": "stream",
          "name": "stdout",
          "text": [
            "Digite o valor de n: 12\n",
            "Número par: 0\n",
            "Número par: 2\n",
            "Número par: 4\n",
            "Número par: 6\n",
            "Número par: 8\n",
            "Número par: 10\n",
            "Número par: 12\n",
            "Quantidade de n° pares: 7\n"
          ]
        }
      ]
    }
  ]
}