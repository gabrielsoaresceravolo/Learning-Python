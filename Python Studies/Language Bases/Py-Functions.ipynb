{
  "nbformat": 4,
  "nbformat_minor": 0,
  "metadata": {
    "colab": {
      "provenance": []
    },
    "kernelspec": {
      "name": "python3",
      "display_name": "Python 3"
    },
    "language_info": {
      "name": "python"
    }
  },
  "cells": [
    {
      "cell_type": "markdown",
      "source": [
        "# ***Construindo funções em Python***"
      ],
      "metadata": {
        "id": "qmTlh1LM95cG"
      }
    },
    {
      "cell_type": "markdown",
      "source": [
        "**Exemplo de função com retorno: Função soma**"
      ],
      "metadata": {
        "id": "jZUfg8DYErmS"
      }
    },
    {
      "cell_type": "code",
      "execution_count": null,
      "metadata": {
        "id": "zN5G4dt892Hj"
      },
      "outputs": [],
      "source": [
        "def soma(num1, num2):\n",
        "    result = num1 + num2\n",
        "    return result\n"
      ]
    },
    {
      "cell_type": "markdown",
      "source": [
        "**Exemplo de função sem retorno: Função mensagem**"
      ],
      "metadata": {
        "id": "MSTKvjitFecc"
      }
    },
    {
      "cell_type": "code",
      "source": [
        "def mensagem():\n",
        "    print(\"O palmeiras não têm mundial...\")\n"
      ],
      "metadata": {
        "id": "sCUChlcMFtbP"
      },
      "execution_count": null,
      "outputs": []
    },
    {
      "cell_type": "markdown",
      "source": [
        "**Exemplo chamada de função**"
      ],
      "metadata": {
        "id": "vEcHYFXQGJal"
      }
    },
    {
      "cell_type": "code",
      "source": [
        "def mostrarIdade(idade):\n",
        "    print(\"Eu tenho \" + str(idade) + \" anos!\")\n",
        "\n",
        "mostrarIdade(28)"
      ],
      "metadata": {
        "colab": {
          "base_uri": "https://localhost:8080/"
        },
        "id": "OCT7YTP8GM2m",
        "outputId": "221dfb82-285c-455f-a9fa-becf7efe4e9a"
      },
      "execution_count": null,
      "outputs": [
        {
          "output_type": "stream",
          "name": "stdout",
          "text": [
            "Eu tenho 28 anos!\n"
          ]
        }
      ]
    },
    {
      "cell_type": "markdown",
      "source": [
        "**Exemplo função com parâmetros nomeados**"
      ],
      "metadata": {
        "id": "f2dg49tfJ-Rt"
      }
    },
    {
      "cell_type": "code",
      "source": [
        "def calcularAreaTriangulo(base, altura):\n",
        "    return (base * altura / 2.0)\n",
        "\n",
        "calcularAreaTriangulo(altura = 4.0, base = 2.0)"
      ],
      "metadata": {
        "colab": {
          "base_uri": "https://localhost:8080/"
        },
        "id": "zMwj6p_NKF-n",
        "outputId": "08f5abb6-86bd-470f-bc54-043306eaf879"
      },
      "execution_count": null,
      "outputs": [
        {
          "output_type": "execute_result",
          "data": {
            "text/plain": [
              "4.0"
            ]
          },
          "metadata": {},
          "execution_count": 18
        }
      ]
    }
  ]
}